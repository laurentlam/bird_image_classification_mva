{
  "nbformat": 4,
  "nbformat_minor": 0,
  "metadata": {
    "colab": {
      "name": "MaskRCNN.ipynb",
      "provenance": [],
      "collapsed_sections": []
    },
    "kernelspec": {
      "name": "python3",
      "display_name": "Python 3"
    }
  },
  "cells": [
    {
      "cell_type": "markdown",
      "metadata": {
        "id": "-y5DC3Xa32o2"
      },
      "source": [
        "Steps to implement Mask R-CNN"
      ]
    },
    {
      "cell_type": "code",
      "metadata": {
        "id": "pvGrIDAF8GgI"
      },
      "source": [
        "!git clone https://github.com/matterport/Mask_RCNN.git"
      ],
      "execution_count": null,
      "outputs": []
    },
    {
      "cell_type": "code",
      "metadata": {
        "id": "4OlJ47fk0o83"
      },
      "source": [
        "!pip install pycocotools\n",
        "!pip install mrcnn\n",
        "!pip install tensorflow==1.9.0\n",
        "!pip install keras==2.2.0\n",
        "print(\"Installed packages\")"
      ],
      "execution_count": null,
      "outputs": []
    },
    {
      "cell_type": "code",
      "metadata": {
        "id": "FbT-7RhI0Ywf"
      },
      "source": [
        "import tensorflow\n",
        "import skimage\n",
        "import IPython\n",
        "import cv2\n",
        "import keras\n",
        "\n",
        "print(\"All dependencies are installed\")"
      ],
      "execution_count": null,
      "outputs": []
    },
    {
      "cell_type": "code",
      "metadata": {
        "id": "8lYPjmPkI3ip"
      },
      "source": [
        "!mkdir -p ./Mask_RCNN/data\n",
        "!wget https://www.di.ens.fr/willow/teaching/recvis18orig/assignment3/bird_dataset.zip -P ./Mask_RCNN/data/\n",
        "!unzip -q ./Mask_RCNN/data/bird_dataset.zip -d ./Mask_RCNN/data/\n",
        "!rm ./Mask_RCNN/data/bird_dataset.zip"
      ],
      "execution_count": null,
      "outputs": []
    },
    {
      "cell_type": "code",
      "metadata": {
        "id": "OlqjmowtJGwU"
      },
      "source": [
        "import os\n",
        "os.chdir('/content/Mask_RCNN/data/')"
      ],
      "execution_count": null,
      "outputs": []
    },
    {
      "cell_type": "code",
      "metadata": {
        "id": "StXX9MFsSBqk"
      },
      "source": [
        "import sys\n",
        "import skimage.io\n",
        "from pycocotools.coco import COCO\n",
        "from mrcnn.config import Config\n",
        "\n",
        "# Root directory of the project\n",
        "ROOT_DIR = os.path.abspath(\"../\")\n",
        "\n",
        "\n",
        "import warnings\n",
        "warnings.filterwarnings(\"ignore\")\n",
        "\n",
        "# Import Mask RCNN\n",
        "sys.path.append(ROOT_DIR)  # To find local version of the library\n",
        "from mrcnn import utils\n",
        "import mrcnn.model as modellib\n",
        "from mrcnn import visualize\n",
        "# Import COCO config\n",
        "sys.path.append(os.path.join(ROOT_DIR, \"samples/coco/\"))  # To find local version\n",
        "import coco"
      ],
      "execution_count": null,
      "outputs": []
    },
    {
      "cell_type": "code",
      "metadata": {
        "id": "L-o73_PbqzDP"
      },
      "source": [
        "# Directory to save logs and trained model\n",
        "MODEL_DIR = os.path.join(ROOT_DIR, \"logs\")\n",
        "\n",
        "# Local path to trained weights file\n",
        "COCO_MODEL_PATH = os.path.join('', \"mask_rcnn_coco.h5\")\n",
        "\n",
        "# Download COCO trained weights from Releases if needed\n",
        "if not os.path.exists(COCO_MODEL_PATH):\n",
        "    utils.download_trained_weights(COCO_MODEL_PATH)\n",
        "\n",
        "# Directory of images to run detection on\n",
        "IMAGE_DIR = os.path.join(ROOT_DIR, \"data\", \"bird_dataset\")\n",
        "\n",
        "\n",
        "# Directory to save cropped images\n",
        "RESULT_IMAGE_DIR = os.path.join(ROOT_DIR, \"data\", \"cropped_bird_dataset\")\n",
        "if not os.path.isdir(RESULT_IMAGE_DIR):\n",
        "    os.makedirs(RESULT_IMAGE_DIR)"
      ],
      "execution_count": null,
      "outputs": []
    },
    {
      "cell_type": "code",
      "metadata": {
        "id": "LAGw0ao_rFpE"
      },
      "source": [
        "batch_size = 1\n",
        "class InferenceConfig(coco.CocoConfig):\n",
        "    # Set batch size to 1 since we'll be running inference on\n",
        "    # one image at a time. Batch size = GPU_COUNT * IMAGES_PER_GPU\n",
        "    GPU_COUNT = 1\n",
        "    IMAGES_PER_GPU = batch_size\n",
        "\n",
        "config = InferenceConfig()"
      ],
      "execution_count": null,
      "outputs": []
    },
    {
      "cell_type": "code",
      "metadata": {
        "id": "fE_uXWEew-H3"
      },
      "source": [
        "model = modellib.MaskRCNN(mode=\"inference\", config=config, model_dir=ROOT_DIR)\n",
        "# Load weights trained on MS-COCO\n",
        "from keras.engine import saving\n",
        "model.load_weights(COCO_MODEL_PATH, by_name=True)"
      ],
      "execution_count": null,
      "outputs": []
    },
    {
      "cell_type": "code",
      "metadata": {
        "id": "rlOPS2O_Ocbq"
      },
      "source": [
        "# COCO Class names\n",
        "# Index of the class in the list is its ID. For example, to get ID of\n",
        "# the teddy bear class, use: class_names.index('teddy bear')\n",
        "class_names = ['BG', 'person', 'bicycle', 'car', 'motorcycle', 'airplane',\n",
        "               'bus', 'train', 'truck', 'boat', 'traffic light',\n",
        "               'fire hydrant', 'stop sign', 'parking meter', 'bench', 'bird',\n",
        "               'cat', 'dog', 'horse', 'sheep', 'cow', 'elephant', 'bear',\n",
        "               'zebra', 'giraffe', 'backpack', 'umbrella', 'handbag', 'tie',\n",
        "               'suitcase', 'frisbee', 'skis', 'snowboard', 'sports ball',\n",
        "               'kite', 'baseball bat', 'baseball glove', 'skateboard',\n",
        "               'surfboard', 'tennis racket', 'bottle', 'wine glass', 'cup',\n",
        "               'fork', 'knife', 'spoon', 'bowl', 'banana', 'apple',\n",
        "               'sandwich', 'orange', 'broccoli', 'carrot', 'hot dog', 'pizza',\n",
        "               'donut', 'cake', 'chair', 'couch', 'potted plant', 'bed',\n",
        "               'dining table', 'toilet', 'tv', 'laptop', 'mouse', 'remote',\n",
        "               'keyboard', 'cell phone', 'microwave', 'oven', 'toaster',\n",
        "               'sink', 'refrigerator', 'book', 'clock', 'vase', 'scissors',\n",
        "               'teddy bear', 'hair drier', 'toothbrush']\n",
        "BIRD_CLASS_INDEX = class_names.index('bird')"
      ],
      "execution_count": null,
      "outputs": []
    },
    {
      "cell_type": "code",
      "metadata": {
        "id": "Rl0CeKk3jnSt"
      },
      "source": [
        "# Load a random image from the images folder\n",
        "import glob\n",
        "filepaths_to_process = glob.glob(IMAGE_DIR + \"/*/*/*.jpg\")\n",
        "filepaths_to_process.sort()"
      ],
      "execution_count": null,
      "outputs": []
    },
    {
      "cell_type": "code",
      "metadata": {
        "id": "iOwFVhtZ766V"
      },
      "source": [
        "failed_files = []\n",
        "from google.colab import files\n",
        "\n",
        "\n",
        "def make_extraction_directories(extract_dataset_path, filepaths):\n",
        "    folder_paths = {'/'.join(filepath.split('/')[:-1]) for filepath in filepaths}\n",
        "    for folder_path in folder_paths:\n",
        "        new_path_split_folder = os.path.join(extract_dataset_path, folder_path.split('/')[-2])\n",
        "        if not os.path.isdir(new_path_split_folder):\n",
        "            os.makedirs(new_path_split_folder)\n",
        "        new_path_class_folder = os.path.join(new_path_split_folder, folder_path.split('/')[-1])\n",
        "        if not os.path.isdir(new_path_class_folder):\n",
        "            os.makedirs(new_path_class_folder)\n",
        "\n",
        "def roi_area(rois):\n",
        "    return (rois[2]-rois[0])*(rois[3]-rois[1])\n",
        "\n",
        "def extract_images_from_batch(model, batch_filepaths, extract_dataset_path, failed_files):\n",
        "    images = [skimage.io.imread(file) for file in batch_filepaths]\n",
        "    try:\n",
        "        results = model.detect(images)\n",
        "    except:\n",
        "        failed_files += batch_filepaths\n",
        "    else:\n",
        "        for image_index, result_image in enumerate(results):\n",
        "            bird_results = [(result_image['rois'][ind], result_image['scores'][ind]) for ind, r in enumerate(result_image['class_ids']) if r == BIRD_CLASS_INDEX]\n",
        "            if not bird_results:\n",
        "                failed_files.append(batch_filepaths[image_index])\n",
        "            else:\n",
        "                rois = max(bird_results, key=lambda x: roi_area(x[0]))\n",
        "            if rois:\n",
        "                x1, y1, x2, y2 = rois[0]\n",
        "                cropped_image = images[image_index][x1:x2, y1:y2,:]\n",
        "                cropped_image_path = os.path.join(extract_dataset_path, *(batch_filepaths[image_index].split('/')[-3:]))\n",
        "                skimage.io.imsave(cropped_image_path, cropped_image)\n",
        "    return failed_files\n"
      ],
      "execution_count": null,
      "outputs": []
    },
    {
      "cell_type": "code",
      "metadata": {
        "id": "V5FW0GPlSsVE"
      },
      "source": [
        "import matplotlib.pyplot as plt\n",
        "import cv2\n",
        "from tqdm import tqdm\n",
        "\n",
        "make_extraction_directories(RESULT_IMAGE_DIR, filepaths_to_process)\n",
        "\n",
        "\n",
        "batches = [filepaths_to_process[i:i + batch_size] for i in range(0, len(filepaths_to_process), batch_size)]\n",
        "\n",
        "for batch in tqdm(batches):\n",
        "    failed_files = extract_images_from_batch(model, batch, RESULT_IMAGE_DIR, failed_files)\n",
        "    "
      ],
      "execution_count": null,
      "outputs": []
    },
    {
      "cell_type": "code",
      "metadata": {
        "id": "Z7qiZx_oRiu6"
      },
      "source": [
        "!zip -q -r ./cropped_dataset.zip $RESULT_IMAGE_DIR\n",
        "files.download('./cropped_dataset.zip')"
      ],
      "execution_count": null,
      "outputs": []
    }
  ]
}